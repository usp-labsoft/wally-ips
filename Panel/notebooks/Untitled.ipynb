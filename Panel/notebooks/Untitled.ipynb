{
 "cells": [
  {
   "cell_type": "code",
   "execution_count": 1,
   "metadata": {
    "collapsed": true
   },
   "outputs": [],
   "source": [
    "import pandas as pd"
   ]
  },
  {
   "cell_type": "code",
   "execution_count": 62,
   "metadata": {
    "collapsed": true
   },
   "outputs": [],
   "source": [
    "data = pd.DataFrame()\n",
    "data[\"user\"] = [1, 3, 2]\n",
    "data[\"lojas\"] = [4, 7 ,8]"
   ]
  },
  {
   "cell_type": "code",
   "execution_count": 68,
   "metadata": {
    "collapsed": false
   },
   "outputs": [
    {
     "data": {
      "text/plain": [
       "array([3, 2, 1])"
      ]
     },
     "execution_count": 68,
     "metadata": {},
     "output_type": "execute_result"
    }
   ],
   "source": [
    "data[\"user\"].value_counts().index.valuesx"
   ]
  },
  {
   "cell_type": "code",
   "execution_count": 4,
   "metadata": {
    "collapsed": false
   },
   "outputs": [
    {
     "data": {
      "text/html": [
       "<div>\n",
       "<table border=\"1\" class=\"dataframe\">\n",
       "  <thead>\n",
       "    <tr style=\"text-align: right;\">\n",
       "      <th></th>\n",
       "      <th>user</th>\n",
       "      <th>lojas</th>\n",
       "    </tr>\n",
       "    <tr>\n",
       "      <th>user</th>\n",
       "      <th></th>\n",
       "      <th></th>\n",
       "    </tr>\n",
       "  </thead>\n",
       "  <tbody>\n",
       "    <tr>\n",
       "      <th>1</th>\n",
       "      <td>1</td>\n",
       "      <td>4</td>\n",
       "    </tr>\n",
       "    <tr>\n",
       "      <th>2</th>\n",
       "      <td>4</td>\n",
       "      <td>15</td>\n",
       "    </tr>\n",
       "  </tbody>\n",
       "</table>\n",
       "</div>"
      ],
      "text/plain": [
       "      user  lojas\n",
       "user             \n",
       "1        1      4\n",
       "2        4     15"
      ]
     },
     "execution_count": 4,
     "metadata": {},
     "output_type": "execute_result"
    }
   ],
   "source": [
    "data.groupby(data[\"user\"]).sum()"
   ]
  },
  {
   "cell_type": "code",
   "execution_count": 5,
   "metadata": {
    "collapsed": false
   },
   "outputs": [
    {
     "data": {
      "text/html": [
       "<div>\n",
       "<table border=\"1\" class=\"dataframe\">\n",
       "  <thead>\n",
       "    <tr style=\"text-align: right;\">\n",
       "      <th></th>\n",
       "      <th>user</th>\n",
       "      <th>lojas</th>\n",
       "    </tr>\n",
       "    <tr>\n",
       "      <th>user</th>\n",
       "      <th></th>\n",
       "      <th></th>\n",
       "    </tr>\n",
       "  </thead>\n",
       "  <tbody>\n",
       "    <tr>\n",
       "      <th>1</th>\n",
       "      <td>1</td>\n",
       "      <td>4</td>\n",
       "    </tr>\n",
       "    <tr>\n",
       "      <th>2</th>\n",
       "      <td>2</td>\n",
       "      <td>7</td>\n",
       "    </tr>\n",
       "    <tr>\n",
       "      <th>2</th>\n",
       "      <td>2</td>\n",
       "      <td>8</td>\n",
       "    </tr>\n",
       "  </tbody>\n",
       "</table>\n",
       "</div>"
      ],
      "text/plain": [
       "      user  lojas\n",
       "user             \n",
       "1        1      4\n",
       "2        2      7\n",
       "2        2      8"
      ]
     },
     "execution_count": 5,
     "metadata": {},
     "output_type": "execute_result"
    }
   ],
   "source": [
    "data.set_index(data[\"user\"])"
   ]
  },
  {
   "cell_type": "code",
   "execution_count": 6,
   "metadata": {
    "collapsed": false
   },
   "outputs": [
    {
     "ename": "TypeError",
     "evalue": "resample() takes at least 2 arguments (1 given)",
     "output_type": "error",
     "traceback": [
      "\u001b[1;31m---------------------------------------------------------------------------\u001b[0m",
      "\u001b[1;31mTypeError\u001b[0m                                 Traceback (most recent call last)",
      "\u001b[1;32m<ipython-input-6-92695c5f8c78>\u001b[0m in \u001b[0;36m<module>\u001b[1;34m()\u001b[0m\n\u001b[1;32m----> 1\u001b[1;33m \u001b[0mdata\u001b[0m\u001b[1;33m.\u001b[0m\u001b[0mresample\u001b[0m\u001b[1;33m(\u001b[0m\u001b[1;33m)\u001b[0m\u001b[1;33m.\u001b[0m\u001b[0msum\u001b[0m\u001b[1;33m(\u001b[0m\u001b[1;33m)\u001b[0m\u001b[1;33m\u001b[0m\u001b[0m\n\u001b[0m",
      "\u001b[1;31mTypeError\u001b[0m: resample() takes at least 2 arguments (1 given)"
     ]
    }
   ],
   "source": [
    "data.resample().sum()"
   ]
  },
  {
   "cell_type": "code",
   "execution_count": null,
   "metadata": {
    "collapsed": true
   },
   "outputs": [],
   "source": [
    "coocc = data.T.dot(data)"
   ]
  },
  {
   "cell_type": "code",
   "execution_count": null,
   "metadata": {
    "collapsed": false
   },
   "outputs": [],
   "source": [
    "coocc"
   ]
  },
  {
   "cell_type": "code",
   "execution_count": null,
   "metadata": {
    "collapsed": true
   },
   "outputs": [],
   "source": [
    "import numpy as np\n",
    "def set_diag(self, values): \n",
    "    n = min(len(self.index), len(self.columns))\n",
    "    self.values[[np.arange(n)] * 2] = values\n",
    "#pd.DataFrame.set_diag = set_diag\n",
    "\n"
   ]
  },
  {
   "cell_type": "code",
   "execution_count": null,
   "metadata": {
    "collapsed": false
   },
   "outputs": [],
   "source": [
    "print(coocc.set_diag(0))"
   ]
  },
  {
   "cell_type": "code",
   "execution_count": null,
   "metadata": {
    "collapsed": false
   },
   "outputs": [],
   "source": [
    "coocc"
   ]
  },
  {
   "cell_type": "code",
   "execution_count": null,
   "metadata": {
    "collapsed": false
   },
   "outputs": [],
   "source": [
    "if \"oia\" in [\"oi\", \"amigo\"]:\n",
    "    print(\"oi\")"
   ]
  },
  {
   "cell_type": "code",
   "execution_count": null,
   "metadata": {
    "collapsed": true
   },
   "outputs": [],
   "source": [
    "m = [[\"loja1\", \"loja2\", \"loja3\"], [1, 0, 9]]"
   ]
  },
  {
   "cell_type": "code",
   "execution_count": null,
   "metadata": {
    "collapsed": false
   },
   "outputs": [],
   "source": [
    "m"
   ]
  },
  {
   "cell_type": "code",
   "execution_count": 7,
   "metadata": {
    "collapsed": true
   },
   "outputs": [],
   "source": [
    "import os, sys\n",
    "from IPython.display import display\n",
    "from IPython.display import Image as _Imgdis\n",
    "from PIL import Image\n",
    "import numpy as np\n",
    "from time import time\n",
    "from time import sleep"
   ]
  },
  {
   "cell_type": "code",
   "execution_count": 8,
   "metadata": {
    "collapsed": false
   },
   "outputs": [],
   "source": [
    "im = Image.open(\"floor_1_clean.png\")\n",
    "#im.show()\n",
    "\n",
    "ar = np.array(list(im.getdata()))"
   ]
  },
  {
   "cell_type": "code",
   "execution_count": 9,
   "metadata": {
    "collapsed": false
   },
   "outputs": [
    {
     "name": "stdout",
     "output_type": "stream",
     "text": [
      "(309408, 4)\n"
     ]
    }
   ],
   "source": [
    "print(ar.shape)"
   ]
  },
  {
   "cell_type": "code",
   "execution_count": 10,
   "metadata": {
    "collapsed": false
   },
   "outputs": [],
   "source": [
    "ar[:, 3] = 25"
   ]
  },
  {
   "cell_type": "code",
   "execution_count": 11,
   "metadata": {
    "collapsed": false
   },
   "outputs": [],
   "source": [
    "im = Image.fromarray(np.uint8(ar))\n",
    "im.show()"
   ]
  },
  {
   "cell_type": "code",
   "execution_count": null,
   "metadata": {
    "collapsed": true
   },
   "outputs": [],
   "source": [
    "import Image\n",
    "\n",
    "background = Image.open(\"test1.png\")\n",
    "foreground = Image.open(\"test2.png\")\n",
    "\n",
    "background.paste(foreground, (0, 0), foreground)\n",
    "background.show()\n",
    "\n",
    "\n",
    "\n",
    "background = Image.open(\"test1.png\")\n",
    "foreground = Image.open(\"test2.png\")\n",
    "\n",
    "Image.alpha_composite(background, foreground).save(\"test3.png\")"
   ]
  },
  {
   "cell_type": "code",
   "execution_count": 14,
   "metadata": {
    "collapsed": false
   },
   "outputs": [],
   "source": [
    "image = Image.open(\"floor_1_clean.png\")\n",
    "image.convert(\"RGBA\") # Convert this to RGBA if possible\n",
    "\n",
    "pixel_data = image.load()\n",
    "\n",
    "if image.mode == \"RGBA\":\n",
    "  # If the image has an alpha channel, convert it to white\n",
    "  # Otherwise we'll get weird pixels\n",
    "  for y in xrange(image.size[1]): # For each row ...\n",
    "    for x in xrange(image.size[0]): # Iterate through each column ...\n",
    "      # Check if it's opaque\n",
    "      if pixel_data[x, y][3] < 255:\n",
    "        # Replace the pixel data with the colour white\n",
    "        pixel_data[x, y] = (255, 0, 0, 255)\n",
    "\n",
    "filename = \"novo.png\"\n",
    "# Resize the image thumbnail\n",
    "#image.thumbnail([resolution.width, resolution.height], Image.ANTIALIAS)\n",
    "image.save(filename) "
   ]
  },
  {
   "cell_type": "code",
   "execution_count": 30,
   "metadata": {
    "collapsed": false
   },
   "outputs": [],
   "source": [
    "locations = dict()\n",
    "locations[\"Rascal\"] = (230, 65, 380, 175)\n",
    "shift_x \n",
    "shift_y\n",
    "locations[\"Viena\"] = 2 * locations[\"Rascal\"]\n",
    "\n",
    "image = Image.open(\"floor_1_clean.png\")\n",
    "image.convert(\"RGBA\") # Convert this to RGBA if possible\n",
    "\n",
    "pixel_data = image.load()\n",
    "\n",
    "if image.mode == \"RGBA\":\n",
    "  # If the image has an alpha channel, convert it to white\n",
    "  # Otherwise we'll get weird pixels\n",
    "  for y in xrange(image.size[1]): # For each row ...\n",
    "    for x in xrange(image.size[0]): # Iterate through each column ...\n",
    "      # Check if it's opaque\n",
    "      if pixel_data[x, y][3] < 255:\n",
    "        # Replace the pixel data with the colour white\n",
    "        if x > locations[\"Rascal\"][0] and x < locations[\"Rascal\"][2] and y > locations[\"Rascal\"][1] and y < locations[\"Rascal\"][3]:\n",
    "            pixel_data[x, y] = (255, 0, 0, 255)\n",
    "\n",
    "filename = \"novo.png\"\n",
    "# Resize the image thumbnail\n",
    "#image.thumbnail([resolution.width, resolution.height], Image.ANTIALIAS)\n",
    "image.save(filename) "
   ]
  },
  {
   "cell_type": "code",
   "execution_count": 34,
   "metadata": {
    "collapsed": false
   },
   "outputs": [
    {
     "data": {
      "text/plain": [
       "array([330, 265, 480, 375])"
      ]
     },
     "execution_count": 34,
     "metadata": {},
     "output_type": "execute_result"
    }
   ],
   "source": [
    "base = np.array((230, 65, 380, 175))\n",
    "shift_x = 130\n",
    "shift_y = 100\n",
    "i = 1\n",
    "j = 2\n",
    "x + (shift_x * i, shift_y * j, shift_x * i, shift_y * j)"
   ]
  },
  {
   "cell_type": "code",
   "execution_count": 57,
   "metadata": {
    "collapsed": false
   },
   "outputs": [],
   "source": [
    "color = dict()\n",
    "color[\"Americanas\"] = (255, 0, 0, 255)\n",
    "color[\"Rascal\"] = (255, 100, 100, 255)\n",
    "color[\"Viena\"] = (255, 150, 150, 255)\n",
    "color[\"Centauro\"] = (255, 50, 50, 255)\n",
    "color[\"Bodytech\"] = (255, 250, 250, 255)\n",
    "\n",
    "color[\"Calvin Klein\"] = (255, 0, 0, 255)\n",
    "color[\"Lacoste\"] = (255, 100, 100, 255)\n",
    "color[\"Hering\"] = (255, 150, 150, 255)\n",
    "color[\"Arezzo\"] = (255, 50, 50, 255)\n",
    "color[\"Carrefour\"] = (255, 250, 250, 255)\n",
    "\n",
    "\n",
    "shift_x = 145\n",
    "shift_y = 110\n",
    "locations = dict()\n",
    "locations[\"Americanas\"] = (0, 0)\n",
    "locations[\"Rascal\"] = (0, 1)\n",
    "locations[\"Viena\"] = (0, 2)\n",
    "locations[\"Centauro\"] = (0, 3)\n",
    "locations[\"Bodytech\"] = (0, 4)\n",
    "\n",
    "locations[\"Calvin Klein\"] = (1, 0)\n",
    "locations[\"Lacoste\"] = (1, 1)\n",
    "locations[\"Hering\"] = (1, 2)\n",
    "locations[\"Arezzo\"] = (1, 3)\n",
    "locations[\"Carrefour\"] = (1, 4)\n",
    "\n",
    "base_pixel = np.array((80, 65, 230, 175))\n",
    "pixels = dict()\n",
    "for key, value in locations.items():\n",
    "    j = value[0]\n",
    "    i = value[1]\n",
    "    pixels[key] = base_pixel + (shift_x * i, shift_y * j, shift_x * i, shift_y * j)\n",
    "\n",
    "image = Image.open(\"floor_1_clean.png\")\n",
    "image.convert(\"RGBA\") # Convert this to RGBA if possible\n",
    "\n",
    "pixel_data = image.load()\n",
    "\n",
    "if image.mode == \"RGBA\":\n",
    "  # If the image has an alpha channel, convert it to white\n",
    "  # Otherwise we'll get weird pixels\n",
    "  for y in xrange(image.size[1]): # For each row ...\n",
    "    for x in xrange(image.size[0]): # Iterate through each column ...\n",
    "      # Check if it's opaque\n",
    "      if pixel_data[x, y][3] < 255:\n",
    "        # Replace the pixel data with the colour white\n",
    "        for key, value in pixels.items():\n",
    "            if x > pixels[key][0] and x < pixels[key][2] and y > pixels[key][1] and y < pixels[key][3]:\n",
    "                pixel_data[x, y] = color[key]\n",
    "\n",
    "filename = \"floor_1_heatmap.png\"\n",
    "# Resize the image thumbnail\n",
    "#image.thumbnail([resolution.width, resolution.height], Image.ANTIALIAS)\n",
    "image.save(filename) "
   ]
  },
  {
   "cell_type": "code",
   "execution_count": 40,
   "metadata": {
    "collapsed": false
   },
   "outputs": [
    {
     "data": {
      "text/plain": [
       "{'Americanas': (0, 0),\n",
       " 'Bodytech': (0, 4),\n",
       " 'Centauro': (0, 3),\n",
       " 'Rascal': (0, 1),\n",
       " 'Viena': (0, 2)}"
      ]
     },
     "execution_count": 40,
     "metadata": {},
     "output_type": "execute_result"
    }
   ],
   "source": [
    "locations"
   ]
  },
  {
   "cell_type": "code",
   "execution_count": 69,
   "metadata": {
    "collapsed": false
   },
   "outputs": [
    {
     "data": {
      "text/plain": [
       "36"
      ]
     },
     "execution_count": 69,
     "metadata": {},
     "output_type": "execute_result"
    }
   ],
   "source": [
    "255/7"
   ]
  },
  {
   "cell_type": "code",
   "execution_count": 70,
   "metadata": {
    "collapsed": false
   },
   "outputs": [
    {
     "data": {
      "text/plain": [
       "252"
      ]
     },
     "execution_count": 70,
     "metadata": {},
     "output_type": "execute_result"
    }
   ],
   "source": [
    "7*36"
   ]
  },
  {
   "cell_type": "code",
   "execution_count": null,
   "metadata": {
    "collapsed": true
   },
   "outputs": [],
   "source": []
  }
 ],
 "metadata": {
  "kernelspec": {
   "display_name": "Python 2",
   "language": "python",
   "name": "python2"
  },
  "language_info": {
   "codemirror_mode": {
    "name": "ipython",
    "version": 2
   },
   "file_extension": ".py",
   "mimetype": "text/x-python",
   "name": "python",
   "nbconvert_exporter": "python",
   "pygments_lexer": "ipython2",
   "version": "2.7.9"
  }
 },
 "nbformat": 4,
 "nbformat_minor": 0
}
